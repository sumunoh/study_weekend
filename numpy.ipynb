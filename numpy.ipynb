{
  "nbformat": 4,
  "nbformat_minor": 0,
  "metadata": {
    "colab": {
      "name": "numpy.ipynb",
      "provenance": [],
      "machine_shape": "hm",
      "authorship_tag": "ABX9TyNzf2cag6zizjy0VZok2J9D",
      "include_colab_link": true
    },
    "kernelspec": {
      "name": "python3",
      "display_name": "Python 3"
    },
    "language_info": {
      "name": "python"
    }
  },
  "cells": [
    {
      "cell_type": "markdown",
      "metadata": {
        "id": "view-in-github",
        "colab_type": "text"
      },
      "source": [
        "<a href=\"https://colab.research.google.com/github/sumunoh/study_weekend/blob/main/numpy.ipynb\" target=\"_parent\"><img src=\"https://colab.research.google.com/assets/colab-badge.svg\" alt=\"Open In Colab\"/></a>"
      ]
    },
    {
      "cell_type": "code",
      "metadata": {
        "colab": {
          "base_uri": "https://localhost:8080/"
        },
        "id": "r-s2H6tOm_qe",
        "outputId": "16b7c3c1-4789-4e9e-d38b-66f4cdb54924"
      },
      "source": [
        "import numpy as np\n",
        "\n",
        "array1= np.array([1,2,3])\n",
        "print('array1 type:', type(array1))\n",
        "print('array1 array 형태:',array1.shape)\n",
        "\n",
        "array2 = np.array([[1,2,3],\n",
        "                  [2,3,4]])\n",
        "\n",
        "print('array2 type:',type(array2))\n",
        "print('array2 array 형태:',array2.shape)\n",
        "\n",
        "array3= np.array([[1,2,3]])\n",
        "\n",
        "print('array3 type:',type(array3))\n",
        "print('array3 array 형태:',array3.shape)"
      ],
      "execution_count": 1,
      "outputs": [
        {
          "output_type": "stream",
          "name": "stdout",
          "text": [
            "array1 type: <class 'numpy.ndarray'>\n",
            "array1 array 형태: (3,)\n",
            "array2 type: <class 'numpy.ndarray'>\n",
            "array2 array 형태: (2, 3)\n",
            "array3 type: <class 'numpy.ndarray'>\n",
            "array3 array 형태: (1, 3)\n"
          ]
        }
      ]
    },
    {
      "cell_type": "code",
      "metadata": {
        "colab": {
          "base_uri": "https://localhost:8080/"
        },
        "id": "3Jad3Hn6pNeK",
        "outputId": "080761e7-1359-45d1-8541-9c96b2673f66"
      },
      "source": [
        "print('array1: {0}차원, array2: {1}차원, array3: {2}차원'.format(array1.ndim,array2.ndim,array3.ndim))"
      ],
      "execution_count": 3,
      "outputs": [
        {
          "output_type": "stream",
          "name": "stdout",
          "text": [
            "array1: 1차원, array2: 2차원, array3: 2차원\n"
          ]
        }
      ]
    },
    {
      "cell_type": "code",
      "metadata": {
        "colab": {
          "base_uri": "https://localhost:8080/"
        },
        "id": "e9Iyuz8Dpcp-",
        "outputId": "b576f0be-45eb-467b-81d5-315363e3cdf0"
      },
      "source": [
        "list1 = [1,2,3]\n",
        "print(type(list1))\n",
        "array1 = np.array(list1)\n",
        "print(type(array1))\n",
        "print(array1, array1.dtype)"
      ],
      "execution_count": 4,
      "outputs": [
        {
          "output_type": "stream",
          "name": "stdout",
          "text": [
            "<class 'list'>\n",
            "<class 'numpy.ndarray'>\n",
            "[1 2 3] int64\n"
          ]
        }
      ]
    },
    {
      "cell_type": "code",
      "metadata": {
        "colab": {
          "base_uri": "https://localhost:8080/"
        },
        "id": "Q9uoEGSzp2MV",
        "outputId": "d9d03855-7d65-4a1a-adb4-55af9f63a4d1"
      },
      "source": [
        "list2 = [1,2,'test']\n",
        "array2 = np.array(list2)\n",
        "print(array2, array2.dtype)\n",
        "\n",
        "list3 = [1,2,3,0]\n",
        "array3 = np.array(list3)\n",
        "print(array3, array3.dtype)"
      ],
      "execution_count": 5,
      "outputs": [
        {
          "output_type": "stream",
          "name": "stdout",
          "text": [
            "['1' '2' 'test'] <U21\n",
            "[1 2 3 0] int64\n"
          ]
        }
      ]
    },
    {
      "cell_type": "code",
      "metadata": {
        "colab": {
          "base_uri": "https://localhost:8080/"
        },
        "id": "TERBkKHDrd68",
        "outputId": "7c7b8ffe-1931-4b58-fac3-9cf831908688"
      },
      "source": [
        "array_int = np.array([1,2,3])\n",
        "array_float = array_int.astype('float64')\n",
        "print(array_float, array_float.dtype)\n",
        "\n",
        "array_int1 = array_float.astype('int32')\n",
        "print(array_int1, array_int1.dtype)\n",
        "\n",
        "array_float1 = np.array([1.1,2.1,3.1])\n",
        "array_int2=array_float1.astype('int32')\n",
        "print(array_int2, array_int2.dtype)"
      ],
      "execution_count": 6,
      "outputs": [
        {
          "output_type": "stream",
          "name": "stdout",
          "text": [
            "[1. 2. 3.] float64\n",
            "[1 2 3] int32\n",
            "[1 2 3] int32\n"
          ]
        }
      ]
    },
    {
      "cell_type": "code",
      "metadata": {
        "colab": {
          "base_uri": "https://localhost:8080/"
        },
        "id": "aL6plzD4sb__",
        "outputId": "0ad1b66a-d56a-497d-9e30-dd5958251e0e"
      },
      "source": [
        "sequence_array = np.arange(10)\n",
        "print(sequence_array)\n",
        "print(sequence_array.dtype, sequence_array.shape)"
      ],
      "execution_count": 8,
      "outputs": [
        {
          "output_type": "stream",
          "name": "stdout",
          "text": [
            "[0 1 2 3 4 5 6 7 8 9]\n",
            "int64 (10,)\n"
          ]
        }
      ]
    },
    {
      "cell_type": "code",
      "metadata": {
        "colab": {
          "base_uri": "https://localhost:8080/"
        },
        "id": "JcGO4gNxtDAv",
        "outputId": "8b45b08a-b17a-4464-a768-e1ab310eecbb"
      },
      "source": [
        "zero_array = np.zeros((3,2),dtype='int32')\n",
        "print(zero_array)\n",
        "print(zero_array.dtype, zero_array.shape,'\\n')\n",
        "\n",
        "one_array = np.ones((3,2),dtype='int32')\n",
        "print(one_array)\n",
        "print(one_array.dtype, one_array.shape)"
      ],
      "execution_count": 15,
      "outputs": [
        {
          "output_type": "stream",
          "name": "stdout",
          "text": [
            "[[0 0]\n",
            " [0 0]\n",
            " [0 0]]\n",
            "int32 (3, 2) \n",
            "\n",
            "[[1 1]\n",
            " [1 1]\n",
            " [1 1]]\n",
            "int32 (3, 2)\n"
          ]
        }
      ]
    },
    {
      "cell_type": "code",
      "metadata": {
        "colab": {
          "base_uri": "https://localhost:8080/"
        },
        "id": "xiqqMua0t62M",
        "outputId": "d330b826-c63e-45c5-a1b8-c925f5f070e7"
      },
      "source": [
        "array1 = np.arange(10)\n",
        "print('array1:\\n', array1)\n",
        "\n",
        "array2 = array1.reshape(2,5)\n",
        "print('array2:\\n', array2)\n",
        "\n",
        "array3 = array1.reshape(5,2)\n",
        "print('array3:\\n', array3)"
      ],
      "execution_count": 16,
      "outputs": [
        {
          "output_type": "stream",
          "name": "stdout",
          "text": [
            "array1:\n",
            " [0 1 2 3 4 5 6 7 8 9]\n",
            "array2:\n",
            " [[0 1 2 3 4]\n",
            " [5 6 7 8 9]]\n",
            "array3:\n",
            " [[0 1]\n",
            " [2 3]\n",
            " [4 5]\n",
            " [6 7]\n",
            " [8 9]]\n"
          ]
        }
      ]
    },
    {
      "cell_type": "code",
      "metadata": {
        "colab": {
          "base_uri": "https://localhost:8080/"
        },
        "id": "MDBMtfynup3j",
        "outputId": "6b7bc901-f37a-4e92-b6b8-a0ee69779eea"
      },
      "source": [
        "array1 = np.arange(10)\n",
        "print(array1)\n",
        "\n",
        "array2 = array1.reshape(-1,5)\n",
        "print('array2.shape:',array2.shape)\n",
        "\n",
        "array3 = array1.reshape(5,-1)\n",
        "print('array3.shape:',array3.shape)"
      ],
      "execution_count": 19,
      "outputs": [
        {
          "output_type": "stream",
          "name": "stdout",
          "text": [
            "[0 1 2 3 4 5 6 7 8 9]\n",
            "array2.shape: (2, 5)\n",
            "array3.shape: (5, 2)\n"
          ]
        }
      ]
    },
    {
      "cell_type": "code",
      "metadata": {
        "colab": {
          "base_uri": "https://localhost:8080/"
        },
        "id": "lwopdSkLxN_S",
        "outputId": "ab8738ba-62e5-457b-efe7-34f52cf7940e"
      },
      "source": [
        "array1 = np.arange(8)\n",
        "array3d = array1.reshape((2,2,2))\n",
        "print('array3d:\\n',array3d.tolist())\n",
        "\n",
        "array5 = array3d.reshape(-1,1)\n",
        "print('array5:\\n',array5.tolist())\n",
        "print('array5 shape',array5.shape)\n",
        "\n",
        "array6 = array1.reshape(-1,1)\n",
        "print('array6:\\n',array6.tolist())\n",
        "print('array6 shape',array6.shape)"
      ],
      "execution_count": 22,
      "outputs": [
        {
          "output_type": "stream",
          "name": "stdout",
          "text": [
            "array3d:\n",
            " [[[0, 1], [2, 3]], [[4, 5], [6, 7]]]\n",
            "array5:\n",
            " [[0], [1], [2], [3], [4], [5], [6], [7]]\n",
            "array5 shape (8, 1)\n",
            "array6:\n",
            " [[0], [1], [2], [3], [4], [5], [6], [7]]\n",
            "array6 shape (8, 1)\n"
          ]
        }
      ]
    },
    {
      "cell_type": "code",
      "metadata": {
        "colab": {
          "base_uri": "https://localhost:8080/"
        },
        "id": "wPf2fg4eynmK",
        "outputId": "84f25943-ee60-4b3d-da1c-8f0beaefa0e1"
      },
      "source": [
        "array1d = np.arange(1,10)\n",
        "array2d = array1d.reshape(3,3)\n",
        "\n",
        "array3 = array2d[[0,1], 2]\n",
        "print('array2d[[0,1], 2] => ',array3.tolist())\n",
        "\n",
        "array4 = array2d[[0,1], 0:2]\n",
        "print('array2d[[0,1], 0:2] => ',array4.tolist())\n",
        "\n",
        "array5 = array2d[[0,1]]\n",
        "print('array2d[[0,1]] => ',array5.tolist())"
      ],
      "execution_count": 23,
      "outputs": [
        {
          "output_type": "stream",
          "name": "stdout",
          "text": [
            "array2d[[0,1], 2] =>  [3, 6]\n",
            "array2d[[0,1], 0:2] =>  [[1, 2], [4, 5]]\n",
            "array2d[[0,1]] =>  [[1, 2, 3], [4, 5, 6]]\n"
          ]
        }
      ]
    },
    {
      "cell_type": "code",
      "metadata": {
        "colab": {
          "base_uri": "https://localhost:8080/"
        },
        "id": "L4KKxZ6j3V8q",
        "outputId": "63000e46-684b-430b-e713-300742d73d37"
      },
      "source": [
        "array1d = np.arange(1,10)\n",
        "array3 = array1d[array1d>5]\n",
        "print('array1d > 5 불린 인덱싱 결과 값:', array3)"
      ],
      "execution_count": 25,
      "outputs": [
        {
          "output_type": "stream",
          "name": "stdout",
          "text": [
            "array1d > 5 불린 인덱싱 결과 값: [6 7 8 9]\n"
          ]
        }
      ]
    },
    {
      "cell_type": "code",
      "metadata": {
        "colab": {
          "base_uri": "https://localhost:8080/"
        },
        "id": "o2d6Nxip30yr",
        "outputId": "cfc2d338-67d7-4b3c-abea-feb9fc29dfca"
      },
      "source": [
        "org_array = np.array([3,1,9,5])\n",
        "print('원본 행렬:',org_array)\n",
        "\n",
        "sort_array1 = np.sort(org_array)\n",
        "print ('np.sort( ) 호출 후 반환된 정렬 행렬:', sort_array1) \n",
        "sort_array1_desc = np.sort(org_array)[::-1]\n",
        "print('내림차순으로 정렬', sort_array1_desc)"
      ],
      "execution_count": 28,
      "outputs": [
        {
          "output_type": "stream",
          "name": "stdout",
          "text": [
            "원본 행렬: [3 1 9 5]\n",
            "np.sort( ) 호출 후 반환된 정렬 행렬: [1 3 5 9]\n",
            "내림차순으로 정렬 [9 5 3 1]\n"
          ]
        }
      ]
    },
    {
      "cell_type": "code",
      "metadata": {
        "colab": {
          "base_uri": "https://localhost:8080/"
        },
        "id": "Ge6eEgH34t5L",
        "outputId": "7cfb7aaa-f6c9-4422-ad30-a4f923bd1438"
      },
      "source": [
        "array2d = np.array([[8, 12], \n",
        "                   [7, 1 ]])\n",
        "\n",
        "sort_array2d_axis0 = np.sort(array2d, axis=0)\n",
        "print('로우 방향으로 정렬:\\n', sort_array2d_axis0)\n",
        "\n",
        "sort_array2d_axis1 = np.sort(array2d, axis=1)\n",
        "print('컬럼 방향으로 정렬:\\n', sort_array2d_axis1)"
      ],
      "execution_count": 29,
      "outputs": [
        {
          "output_type": "stream",
          "name": "stdout",
          "text": [
            "로우 방향으로 정렬:\n",
            " [[ 7  1]\n",
            " [ 8 12]]\n",
            "컬럼 방향으로 정렬:\n",
            " [[ 8 12]\n",
            " [ 1  7]]\n"
          ]
        }
      ]
    },
    {
      "cell_type": "code",
      "metadata": {
        "colab": {
          "base_uri": "https://localhost:8080/"
        },
        "id": "4u67nd6Z598o",
        "outputId": "91621e61-0744-49f0-e378-947f7f5ae1de"
      },
      "source": [
        "org_array = np.array([ 3, 1, 9, 5]) \n",
        "sort_indices = np.argsort(org_array)\n",
        "print(type(sort_indices))\n",
        "print('행렬 정렬 시 원본 행렬의 인덱스:', sort_indices)"
      ],
      "execution_count": 30,
      "outputs": [
        {
          "output_type": "stream",
          "name": "stdout",
          "text": [
            "<class 'numpy.ndarray'>\n",
            "행렬 정렬 시 원본 행렬의 인덱스: [1 0 3 2]\n"
          ]
        }
      ]
    },
    {
      "cell_type": "code",
      "metadata": {
        "colab": {
          "base_uri": "https://localhost:8080/"
        },
        "id": "4lMrcuQm6EuP",
        "outputId": "76c35ff3-4876-44e1-8651-b1abd1eb285f"
      },
      "source": [
        "org_array = np.array([ 3, 1, 9, 5]) \n",
        "sort_indices_desc = np.argsort(org_array)[::-1]\n",
        "print('행렬 내림차순 정렬 시 원본 행렬의 인덱스:', sort_indices_desc)"
      ],
      "execution_count": 31,
      "outputs": [
        {
          "output_type": "stream",
          "name": "stdout",
          "text": [
            "행렬 내림차순 정렬 시 원본 행렬의 인덱스: [2 3 0 1]\n"
          ]
        }
      ]
    },
    {
      "cell_type": "code",
      "metadata": {
        "colab": {
          "base_uri": "https://localhost:8080/"
        },
        "id": "0F86sxjd6HHj",
        "outputId": "980ff02c-8bfd-463d-cc13-1e66a036afc8"
      },
      "source": [
        "import numpy as np\n",
        "\n",
        "name_array = np.array(['John', 'Mike', 'Sarah', 'Kate', 'Samuel'])\n",
        "score_array= np.array([78, 95, 84, 98, 88])\n",
        "\n",
        "sort_indices_asc = np.argsort(score_array)\n",
        "print('성적 오름차순 정렬 시 score_array의 인덱스:', sort_indices_asc)\n",
        "print('성적 오름차순으로 name_array의 이름 출력:', name_array[sort_indices_asc])"
      ],
      "execution_count": 32,
      "outputs": [
        {
          "output_type": "stream",
          "name": "stdout",
          "text": [
            "성적 오름차순 정렬 시 score_array의 인덱스: [0 2 4 1 3]\n",
            "성적 오름차순으로 name_array의 이름 출력: ['John' 'Sarah' 'Samuel' 'Mike' 'Kate']\n"
          ]
        }
      ]
    },
    {
      "cell_type": "code",
      "metadata": {
        "colab": {
          "base_uri": "https://localhost:8080/"
        },
        "id": "3MvpJ9-e7ZCU",
        "outputId": "35d0d404-c309-47ad-c311-5c79c8acdda7"
      },
      "source": [
        "A = np.array([[1, 2, 3],\n",
        "              [4, 5, 6]])\n",
        "B = np.array([[7, 8],\n",
        "              [9, 10],\n",
        "              [11, 12]])\n",
        "\n",
        "dot_product = np.dot(A, B)\n",
        "print('행렬 내적 결과:\\n', dot_product)"
      ],
      "execution_count": 33,
      "outputs": [
        {
          "output_type": "stream",
          "name": "stdout",
          "text": [
            "행렬 내적 결과:\n",
            " [[ 58  64]\n",
            " [139 154]]\n"
          ]
        }
      ]
    },
    {
      "cell_type": "code",
      "metadata": {
        "colab": {
          "base_uri": "https://localhost:8080/"
        },
        "id": "8z2cfrim6Twc",
        "outputId": "3a5332ea-a939-4e51-9b8d-eeb546ec386a"
      },
      "source": [
        "A = np.array([[1, 2],\n",
        "              [3, 4]])\n",
        "transpose_mat = np.transpose(A)\n",
        "print('A의 전치 행렬:\\n', transpose_mat)"
      ],
      "execution_count": 34,
      "outputs": [
        {
          "output_type": "stream",
          "name": "stdout",
          "text": [
            "A의 전치 행렬:\n",
            " [[1 3]\n",
            " [2 4]]\n"
          ]
        }
      ]
    }
  ]
}