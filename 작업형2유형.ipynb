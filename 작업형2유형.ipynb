{
  "nbformat": 4,
  "nbformat_minor": 0,
  "metadata": {
    "colab": {
      "name": "작업형2유형.ipynb",
      "provenance": [],
      "collapsed_sections": [],
      "machine_shape": "hm",
      "authorship_tag": "ABX9TyN+poUuHGXNNiv7sECBVAra",
      "include_colab_link": true
    },
    "kernelspec": {
      "name": "python3",
      "display_name": "Python 3"
    },
    "language_info": {
      "name": "python"
    }
  },
  "cells": [
    {
      "cell_type": "markdown",
      "metadata": {
        "id": "view-in-github",
        "colab_type": "text"
      },
      "source": [
        "<a href=\"https://colab.research.google.com/github/sumunoh/study_weekend/blob/main/%EC%9E%91%EC%97%85%ED%98%952%EC%9C%A0%ED%98%95.ipynb\" target=\"_parent\"><img src=\"https://colab.research.google.com/assets/colab-badge.svg\" alt=\"Open In Colab\"/></a>"
      ]
    },
    {
      "cell_type": "code",
      "metadata": {
        "colab": {
          "base_uri": "https://localhost:8080/"
        },
        "id": "Thl4jzZ9RFG3",
        "outputId": "31cf2333-0a18-4c55-d57c-1b32390830e5"
      },
      "source": [
        "from google.colab import drive\n",
        "drive.mount('/content/drive')"
      ],
      "execution_count": 1,
      "outputs": [
        {
          "output_type": "stream",
          "name": "stdout",
          "text": [
            "Mounted at /content/drive\n"
          ]
        }
      ]
    },
    {
      "cell_type": "code",
      "metadata": {
        "colab": {
          "base_uri": "https://localhost:8080/"
        },
        "id": "3EN6ZgC8RLdU",
        "outputId": "681924be-6df3-42eb-8d54-932a1e25a100"
      },
      "source": [
        "import sklearn\n",
        "print(dir(sklearn))"
      ],
      "execution_count": 2,
      "outputs": [
        {
          "output_type": "stream",
          "name": "stdout",
          "text": [
            "['__SKLEARN_SETUP__', '__all__', '__builtins__', '__cached__', '__check_build', '__doc__', '__file__', '__loader__', '__name__', '__package__', '__path__', '__spec__', '__version__', '_config', '_distributor_init', 'base', 'clone', 'config_context', 'exceptions', 'externals', 'get_config', 'logger', 'logging', 'os', 'random', 'set_config', 'setup_module', 'show_versions', 'sys', 'utils']\n"
          ]
        }
      ]
    },
    {
      "cell_type": "code",
      "metadata": {
        "colab": {
          "base_uri": "https://localhost:8080/"
        },
        "id": "8kj_QdGURaT1",
        "outputId": "c09dbcd0-7c0f-4842-8e61-42044034a7fa"
      },
      "source": [
        "import sklearn.preprocessing\n",
        "print(dir(sklearn.preprocessing))"
      ],
      "execution_count": 4,
      "outputs": [
        {
          "output_type": "stream",
          "name": "stdout",
          "text": [
            "['Binarizer', 'FunctionTransformer', 'KBinsDiscretizer', 'KernelCenterer', 'LabelBinarizer', 'LabelEncoder', 'MaxAbsScaler', 'MinMaxScaler', 'MultiLabelBinarizer', 'Normalizer', 'OneHotEncoder', 'OrdinalEncoder', 'PolynomialFeatures', 'PowerTransformer', 'QuantileTransformer', 'RobustScaler', 'SplineTransformer', 'StandardScaler', '__all__', '__builtins__', '__cached__', '__doc__', '__file__', '__loader__', '__name__', '__package__', '__path__', '__spec__', '_csr_polynomial_expansion', '_data', '_discretization', '_encoders', '_function_transformer', '_label', '_polynomial', 'add_dummy_feature', 'binarize', 'label_binarize', 'maxabs_scale', 'minmax_scale', 'normalize', 'power_transform', 'quantile_transform', 'robust_scale', 'scale']\n"
          ]
        }
      ]
    },
    {
      "cell_type": "code",
      "metadata": {
        "id": "msBANDnFR0GM"
      },
      "source": [
        "import pandas as pd\n",
        "x_train = pd.read_csv('/content/drive/MyDrive/study_weekend/data/x_train.csv',encoding='cp949')\n",
        "x_test = pd.read_csv('/content/drive/MyDrive/study_weekend/data/x_test.csv',encoding='cp949')\n",
        "y_train = pd.read_csv('/content/drive/MyDrive/study_weekend/data/y_train.csv',encoding='cp949')"
      ],
      "execution_count": 80,
      "outputs": []
    },
    {
      "cell_type": "code",
      "metadata": {
        "colab": {
          "base_uri": "https://localhost:8080/"
        },
        "id": "LrtCHNpuTDnV",
        "outputId": "f567acb5-4512-477b-a44d-e55808206ad2"
      },
      "source": [
        "print(x_train.head())"
      ],
      "execution_count": 81,
      "outputs": [
        {
          "output_type": "stream",
          "name": "stdout",
          "text": [
            "   cust_id      총구매액     최대구매액       환불금액   주구매상품 주구매지점  내점일수   내점당구매건수  \\\n",
            "0        0  68282840  11264000  6860000.0      기타   강남점    19  3.894737   \n",
            "1        1   2136000   2136000   300000.0     스포츠   잠실점     2  1.500000   \n",
            "2        2   3197000   1639000        NaN  남성 캐주얼   관악점     2  2.000000   \n",
            "3        3  16077620   4935000        NaN      기타   광주점    18  2.444444   \n",
            "4        4  29050000  24000000        NaN      보석  본  점     2  1.500000   \n",
            "\n",
            "     주말방문비율  구매주기  \n",
            "0  0.527027    17  \n",
            "1  0.000000     1  \n",
            "2  0.000000     1  \n",
            "3  0.318182    16  \n",
            "4  0.000000    85  \n"
          ]
        }
      ]
    },
    {
      "cell_type": "code",
      "metadata": {
        "id": "_2ivx31cTetd"
      },
      "source": [
        "pd.options.display.max_columns =None"
      ],
      "execution_count": 82,
      "outputs": []
    },
    {
      "cell_type": "code",
      "metadata": {
        "colab": {
          "base_uri": "https://localhost:8080/"
        },
        "id": "SofERaZST-Fa",
        "outputId": "222cbbeb-c3d5-479d-fd64-9692b730e523"
      },
      "source": [
        "print(x_train.shape)"
      ],
      "execution_count": 83,
      "outputs": [
        {
          "output_type": "stream",
          "name": "stdout",
          "text": [
            "(3500, 10)\n"
          ]
        }
      ]
    },
    {
      "cell_type": "code",
      "metadata": {
        "colab": {
          "base_uri": "https://localhost:8080/"
        },
        "id": "qplZZ6MPUDGF",
        "outputId": "42f7ee10-b0f1-45f3-8241-b40dfa0042e6"
      },
      "source": [
        "print(x_test.shape)"
      ],
      "execution_count": 84,
      "outputs": [
        {
          "output_type": "stream",
          "name": "stdout",
          "text": [
            "(2482, 10)\n"
          ]
        }
      ]
    },
    {
      "cell_type": "code",
      "metadata": {
        "colab": {
          "base_uri": "https://localhost:8080/"
        },
        "id": "JkTZtDzaUGJB",
        "outputId": "f22460a3-f521-470a-8daa-ed8ad79eee50"
      },
      "source": [
        "print(y_train.shape)"
      ],
      "execution_count": 85,
      "outputs": [
        {
          "output_type": "stream",
          "name": "stdout",
          "text": [
            "(3500, 2)\n"
          ]
        }
      ]
    },
    {
      "cell_type": "code",
      "metadata": {
        "colab": {
          "base_uri": "https://localhost:8080/"
        },
        "id": "y-ryKMVSUJL1",
        "outputId": "261f6414-f8e5-45e4-ea55-438ca5708fe5"
      },
      "source": [
        "print(x_test.info())"
      ],
      "execution_count": 86,
      "outputs": [
        {
          "output_type": "stream",
          "name": "stdout",
          "text": [
            "<class 'pandas.core.frame.DataFrame'>\n",
            "RangeIndex: 2482 entries, 0 to 2481\n",
            "Data columns (total 10 columns):\n",
            " #   Column   Non-Null Count  Dtype  \n",
            "---  ------   --------------  -----  \n",
            " 0   cust_id  2482 non-null   int64  \n",
            " 1   총구매액     2482 non-null   int64  \n",
            " 2   최대구매액    2482 non-null   int64  \n",
            " 3   환불금액     871 non-null    float64\n",
            " 4   주구매상품    2482 non-null   object \n",
            " 5   주구매지점    2482 non-null   object \n",
            " 6   내점일수     2482 non-null   int64  \n",
            " 7   내점당구매건수  2482 non-null   float64\n",
            " 8   주말방문비율   2482 non-null   float64\n",
            " 9   구매주기     2482 non-null   int64  \n",
            "dtypes: float64(3), int64(5), object(2)\n",
            "memory usage: 194.0+ KB\n",
            "None\n"
          ]
        }
      ]
    },
    {
      "cell_type": "code",
      "metadata": {
        "colab": {
          "base_uri": "https://localhost:8080/"
        },
        "id": "6SZF9NIPUSit",
        "outputId": "9a6f05c1-a3a4-4b7d-89ee-4f1a997612e5"
      },
      "source": [
        "print(x_train.describe())"
      ],
      "execution_count": 87,
      "outputs": [
        {
          "output_type": "stream",
          "name": "stdout",
          "text": [
            "           cust_id          총구매액         최대구매액          환불금액         내점일수  \\\n",
            "count  3500.000000  3.500000e+03  3.500000e+03  1.205000e+03  3500.000000   \n",
            "mean   1749.500000  9.191925e+07  1.966424e+07  2.407822e+07    19.253714   \n",
            "std    1010.507298  1.635065e+08  3.199235e+07  4.746453e+07    27.174942   \n",
            "min       0.000000 -5.242152e+07 -2.992000e+06  5.600000e+03     1.000000   \n",
            "25%     874.750000  4.747050e+06  2.875000e+06  2.259000e+06     2.000000   \n",
            "50%    1749.500000  2.822270e+07  9.837000e+06  7.392000e+06     8.000000   \n",
            "75%    2624.250000  1.065079e+08  2.296250e+07  2.412000e+07    25.000000   \n",
            "max    3499.000000  2.323180e+09  7.066290e+08  5.637530e+08   285.000000   \n",
            "\n",
            "           내점당구매건수       주말방문비율         구매주기  \n",
            "count  3500.000000  3500.000000  3500.000000  \n",
            "mean      2.834963     0.307246    20.958286  \n",
            "std       1.912368     0.289752    24.748682  \n",
            "min       1.000000     0.000000     0.000000  \n",
            "25%       1.666667     0.027291     4.000000  \n",
            "50%       2.333333     0.256410    13.000000  \n",
            "75%       3.375000     0.448980    28.000000  \n",
            "max      22.083333     1.000000   166.000000  \n"
          ]
        }
      ]
    },
    {
      "cell_type": "code",
      "metadata": {
        "id": "YqeAzFViUpHh"
      },
      "source": [
        "x_test_cust_id = x_test['cust_id']"
      ],
      "execution_count": 88,
      "outputs": []
    },
    {
      "cell_type": "code",
      "metadata": {
        "id": "i77NGNQLVK4w"
      },
      "source": [
        "x_train = x_train.drop(columns = ['cust_id'])\n",
        "y_train = y_train.drop(columns = ['cust_id'])\n",
        "x_test = x_test.drop(columns = ['cust_id'])"
      ],
      "execution_count": 89,
      "outputs": []
    },
    {
      "cell_type": "code",
      "metadata": {
        "colab": {
          "base_uri": "https://localhost:8080/"
        },
        "id": "Z2dWWnzKVldq",
        "outputId": "00138fd2-8edd-4e68-a0f3-f39302719c44"
      },
      "source": [
        "print(x_train.head())\n",
        "print(y_train.head())"
      ],
      "execution_count": 90,
      "outputs": [
        {
          "output_type": "stream",
          "name": "stdout",
          "text": [
            "       총구매액     최대구매액       환불금액   주구매상품 주구매지점  내점일수   내점당구매건수    주말방문비율  구매주기\n",
            "0  68282840  11264000  6860000.0      기타   강남점    19  3.894737  0.527027    17\n",
            "1   2136000   2136000   300000.0     스포츠   잠실점     2  1.500000  0.000000     1\n",
            "2   3197000   1639000        NaN  남성 캐주얼   관악점     2  2.000000  0.000000     1\n",
            "3  16077620   4935000        NaN      기타   광주점    18  2.444444  0.318182    16\n",
            "4  29050000  24000000        NaN      보석  본  점     2  1.500000  0.000000    85\n",
            "   gender\n",
            "0       0\n",
            "1       0\n",
            "2       1\n",
            "3       1\n",
            "4       0\n"
          ]
        }
      ]
    },
    {
      "cell_type": "code",
      "metadata": {
        "colab": {
          "base_uri": "https://localhost:8080/"
        },
        "id": "V_1vb9DGV3Do",
        "outputId": "d28ac6a1-b9ac-41aa-907c-ba59e95a4b02"
      },
      "source": [
        "print(x_train.isnull().sum())"
      ],
      "execution_count": 91,
      "outputs": [
        {
          "output_type": "stream",
          "name": "stdout",
          "text": [
            "총구매액          0\n",
            "최대구매액         0\n",
            "환불금액       2295\n",
            "주구매상품         0\n",
            "주구매지점         0\n",
            "내점일수          0\n",
            "내점당구매건수       0\n",
            "주말방문비율        0\n",
            "구매주기          0\n",
            "dtype: int64\n"
          ]
        }
      ]
    },
    {
      "cell_type": "code",
      "metadata": {
        "id": "wcFfGs8hWA97"
      },
      "source": [
        "x_train['환불금액'].fillna(0, inplace=True)\n",
        "x_test['환불금액'].fillna(0, inplace=True)"
      ],
      "execution_count": 92,
      "outputs": []
    },
    {
      "cell_type": "code",
      "metadata": {
        "colab": {
          "base_uri": "https://localhost:8080/"
        },
        "id": "3CvLllTJWY9k",
        "outputId": "96dd54db-5079-4862-874f-754125ea7a27"
      },
      "source": [
        "print(x_train.isnull().sum())"
      ],
      "execution_count": 93,
      "outputs": [
        {
          "output_type": "stream",
          "name": "stdout",
          "text": [
            "총구매액       0\n",
            "최대구매액      0\n",
            "환불금액       0\n",
            "주구매상품      0\n",
            "주구매지점      0\n",
            "내점일수       0\n",
            "내점당구매건수    0\n",
            "주말방문비율     0\n",
            "구매주기       0\n",
            "dtype: int64\n"
          ]
        }
      ]
    },
    {
      "cell_type": "code",
      "metadata": {
        "colab": {
          "base_uri": "https://localhost:8080/"
        },
        "id": "FNJGaWcyWgkF",
        "outputId": "9d3c5d41-010c-4ca3-8f7e-a1a960b74345"
      },
      "source": [
        "print(x_test.isnull().sum())"
      ],
      "execution_count": 94,
      "outputs": [
        {
          "output_type": "stream",
          "name": "stdout",
          "text": [
            "총구매액       0\n",
            "최대구매액      0\n",
            "환불금액       0\n",
            "주구매상품      0\n",
            "주구매지점      0\n",
            "내점일수       0\n",
            "내점당구매건수    0\n",
            "주말방문비율     0\n",
            "구매주기       0\n",
            "dtype: int64\n"
          ]
        }
      ]
    },
    {
      "cell_type": "code",
      "metadata": {
        "colab": {
          "base_uri": "https://localhost:8080/"
        },
        "id": "OJoj1og6WlVW",
        "outputId": "b539cfe9-05b4-48be-a00b-f78525cb5732"
      },
      "source": [
        "print(x_train['주구매상품'].unique())"
      ],
      "execution_count": 95,
      "outputs": [
        {
          "output_type": "stream",
          "name": "stdout",
          "text": [
            "['기타' '스포츠' '남성 캐주얼' '보석' '디자이너' '시티웨어' '명품' '농산물' '화장품' '골프' '구두' '가공식품'\n",
            " '수산품' '아동' '차/커피' '캐주얼' '섬유잡화' '육류' '축산가공' '젓갈/반찬' '액세서리' '피혁잡화' '일용잡화'\n",
            " '주방가전' '주방용품' '건강식품' '가구' '주류' '모피/피혁' '남성 트랜디' '셔츠' '남성정장' '생활잡화'\n",
            " '트래디셔널' '란제리/내의' '커리어' '침구/수예' '대형가전' '통신/컴퓨터' '식기' '소형가전' '악기']\n"
          ]
        }
      ]
    },
    {
      "cell_type": "code",
      "metadata": {
        "colab": {
          "base_uri": "https://localhost:8080/"
        },
        "id": "lXXaP9E9jGGy",
        "outputId": "1d4be69a-73fa-43c5-c49f-6c409138f71c"
      },
      "source": [
        "print(x_train['주구매지점'].nunique())"
      ],
      "execution_count": 96,
      "outputs": [
        {
          "output_type": "stream",
          "name": "stdout",
          "text": [
            "24\n"
          ]
        }
      ]
    },
    {
      "cell_type": "code",
      "metadata": {
        "id": "P2720Xv9jXHl"
      },
      "source": [
        "from sklearn.preprocessing import LabelEncoder\n",
        "encoder = LabelEncoder()"
      ],
      "execution_count": 97,
      "outputs": []
    },
    {
      "cell_type": "code",
      "metadata": {
        "id": "7rQfjKI7klcr"
      },
      "source": [
        "from sklearn.preprocessing import MinMaxScaler"
      ],
      "execution_count": 98,
      "outputs": []
    },
    {
      "cell_type": "code",
      "metadata": {
        "id": "qPsikoEVkzGV"
      },
      "source": [
        "scaler = MinMaxScaler()"
      ],
      "execution_count": 99,
      "outputs": []
    },
    {
      "cell_type": "code",
      "metadata": {
        "colab": {
          "base_uri": "https://localhost:8080/"
        },
        "id": "GuSxZECEkF15",
        "outputId": "81ba0503-1820-43b3-ae8e-f5f85ddc0390"
      },
      "source": [
        "x_train['주구매상품'] = encoder.fit_transform(x_train['주구매상품'])\n",
        "print(x_train['주구매상품'].head(10))"
      ],
      "execution_count": 100,
      "outputs": [
        {
          "output_type": "stream",
          "name": "stdout",
          "text": [
            "0     5\n",
            "1    21\n",
            "2     6\n",
            "3     5\n",
            "4    15\n",
            "5    11\n",
            "6    22\n",
            "7    13\n",
            "8     5\n",
            "9     9\n",
            "Name: 주구매상품, dtype: int64\n"
          ]
        }
      ]
    },
    {
      "cell_type": "code",
      "metadata": {
        "colab": {
          "base_uri": "https://localhost:8080/"
        },
        "id": "-a5SL1_dmEkw",
        "outputId": "bc518e60-4923-4d3d-b66c-88510cd27468"
      },
      "source": [
        "x_train['주구매상품']"
      ],
      "execution_count": 101,
      "outputs": [
        {
          "output_type": "execute_result",
          "data": {
            "text/plain": [
              "0        5\n",
              "1       21\n",
              "2        6\n",
              "3        5\n",
              "4       15\n",
              "        ..\n",
              "3495     3\n",
              "3496    22\n",
              "3497    32\n",
              "3498    41\n",
              "3499     5\n",
              "Name: 주구매상품, Length: 3500, dtype: int64"
            ]
          },
          "metadata": {},
          "execution_count": 101
        }
      ]
    },
    {
      "cell_type": "code",
      "metadata": {
        "colab": {
          "base_uri": "https://localhost:8080/"
        },
        "id": "2DCG7l1NlwBO",
        "outputId": "69c723d9-68c7-4f71-9394-01aac5781f9c"
      },
      "source": [
        "print(encoder.classes_)"
      ],
      "execution_count": 102,
      "outputs": [
        {
          "output_type": "stream",
          "name": "stdout",
          "text": [
            "['가공식품' '가구' '건강식품' '골프' '구두' '기타' '남성 캐주얼' '남성 트랜디' '남성정장' '농산물' '대형가전'\n",
            " '디자이너' '란제리/내의' '명품' '모피/피혁' '보석' '생활잡화' '섬유잡화' '셔츠' '소형가전' '수산품' '스포츠'\n",
            " '시티웨어' '식기' '아동' '악기' '액세서리' '육류' '일용잡화' '젓갈/반찬' '주류' '주방가전' '주방용품'\n",
            " '차/커피' '축산가공' '침구/수예' '캐주얼' '커리어' '통신/컴퓨터' '트래디셔널' '피혁잡화' '화장품']\n"
          ]
        }
      ]
    },
    {
      "cell_type": "code",
      "metadata": {
        "id": "Ge54eeZVmVMO"
      },
      "source": [
        "x_test['주구매상품'] = encoder.fit_transform(x_test['주구매상품'])"
      ],
      "execution_count": 103,
      "outputs": []
    },
    {
      "cell_type": "code",
      "metadata": {
        "colab": {
          "base_uri": "https://localhost:8080/"
        },
        "id": "z1EhGKV5miZr",
        "outputId": "82018d2f-4a82-4a46-fc66-a9eb264a72b3"
      },
      "source": [
        "x_train['주구매지점']=encoder.fit_transform(x_train['주구매지점'])\n",
        "print(x_train['주구매지점'].head(10))"
      ],
      "execution_count": 104,
      "outputs": [
        {
          "output_type": "stream",
          "name": "stdout",
          "text": [
            "0     0\n",
            "1    19\n",
            "2     1\n",
            "3     2\n",
            "4     8\n",
            "5    18\n",
            "6     0\n",
            "7     8\n",
            "8     8\n",
            "9     5\n",
            "Name: 주구매지점, dtype: int64\n"
          ]
        }
      ]
    },
    {
      "cell_type": "code",
      "metadata": {
        "colab": {
          "base_uri": "https://localhost:8080/"
        },
        "id": "3PY5soPOnWnd",
        "outputId": "92bfcd54-e6fc-4c73-e0a3-3327c0dd0164"
      },
      "source": [
        "print(encoder.classes_)"
      ],
      "execution_count": 105,
      "outputs": [
        {
          "output_type": "stream",
          "name": "stdout",
          "text": [
            "['강남점' '관악점' '광주점' '노원점' '대구점' '대전점' '동래점' '미아점' '본  점' '부산본점' '부평점' '분당점'\n",
            " '상인점' '센텀시티점' '안양점' '영등포점' '울산점' '인천점' '일산점' '잠실점' '전주점' '창원점' '청량리점'\n",
            " '포항점']\n"
          ]
        }
      ]
    },
    {
      "cell_type": "code",
      "metadata": {
        "id": "PEBQozVOncsP"
      },
      "source": [
        "x_test['주구매지점']=encoder.fit_transform(x_test['주구매지점'])"
      ],
      "execution_count": 106,
      "outputs": []
    },
    {
      "cell_type": "code",
      "metadata": {
        "id": "5cBm4UKGnqF-"
      },
      "source": [
        "condition = x_train['환불금액'] > 0"
      ],
      "execution_count": 107,
      "outputs": []
    },
    {
      "cell_type": "code",
      "metadata": {
        "colab": {
          "base_uri": "https://localhost:8080/"
        },
        "id": "ffDwgB-Dn-iC",
        "outputId": "670359f0-ec7e-45ad-a165-7141fdb0738d"
      },
      "source": [
        "condition"
      ],
      "execution_count": 108,
      "outputs": [
        {
          "output_type": "execute_result",
          "data": {
            "text/plain": [
              "0        True\n",
              "1        True\n",
              "2       False\n",
              "3       False\n",
              "4       False\n",
              "        ...  \n",
              "3495    False\n",
              "3496     True\n",
              "3497    False\n",
              "3498    False\n",
              "3499     True\n",
              "Name: 환불금액, Length: 3500, dtype: bool"
            ]
          },
          "metadata": {},
          "execution_count": 108
        }
      ]
    },
    {
      "cell_type": "code",
      "metadata": {
        "id": "sI6doglnoBHl"
      },
      "source": [
        "x_train.loc[condition, '환불금액_new'] = 1\n",
        "x_train.loc[~condition, '환불금액_new'] = 0"
      ],
      "execution_count": 109,
      "outputs": []
    },
    {
      "cell_type": "code",
      "metadata": {
        "colab": {
          "base_uri": "https://localhost:8080/"
        },
        "id": "awzLNaskoo_V",
        "outputId": "a0a1610d-978f-44e5-c4c1-e40ac3ccd68b"
      },
      "source": [
        "x_train['환불금액_new']"
      ],
      "execution_count": 110,
      "outputs": [
        {
          "output_type": "execute_result",
          "data": {
            "text/plain": [
              "0       1.0\n",
              "1       1.0\n",
              "2       0.0\n",
              "3       0.0\n",
              "4       0.0\n",
              "       ... \n",
              "3495    0.0\n",
              "3496    1.0\n",
              "3497    0.0\n",
              "3498    0.0\n",
              "3499    1.0\n",
              "Name: 환불금액_new, Length: 3500, dtype: float64"
            ]
          },
          "metadata": {},
          "execution_count": 110
        }
      ]
    },
    {
      "cell_type": "code",
      "metadata": {
        "colab": {
          "base_uri": "https://localhost:8080/"
        },
        "id": "0fOHgN0to5Mn",
        "outputId": "e1edf9c4-3fe7-4849-b08c-9fb545905243"
      },
      "source": [
        "print(x_train[['환불금액','환불금액_new']])"
      ],
      "execution_count": 111,
      "outputs": [
        {
          "output_type": "stream",
          "name": "stdout",
          "text": [
            "           환불금액  환불금액_new\n",
            "0     6860000.0       1.0\n",
            "1      300000.0       1.0\n",
            "2           0.0       0.0\n",
            "3           0.0       0.0\n",
            "4           0.0       0.0\n",
            "...         ...       ...\n",
            "3495        0.0       0.0\n",
            "3496  6049600.0       1.0\n",
            "3497        0.0       0.0\n",
            "3498        0.0       0.0\n",
            "3499  5973000.0       1.0\n",
            "\n",
            "[3500 rows x 2 columns]\n"
          ]
        }
      ]
    },
    {
      "cell_type": "code",
      "metadata": {
        "id": "3P9BPAN5pf4v"
      },
      "source": [
        "x_train = x_train.drop(columns = ['환불금액'])"
      ],
      "execution_count": 112,
      "outputs": []
    },
    {
      "cell_type": "code",
      "metadata": {
        "colab": {
          "base_uri": "https://localhost:8080/"
        },
        "id": "AicH_O20pyCt",
        "outputId": "750c30e8-a863-45d2-d268-dae629043a93"
      },
      "source": [
        "print(x_train.describe().T)"
      ],
      "execution_count": 113,
      "outputs": [
        {
          "output_type": "stream",
          "name": "stdout",
          "text": [
            "           count          mean           std         min           25%  \\\n",
            "총구매액      3500.0  9.191925e+07  1.635065e+08 -52421520.0  4.747050e+06   \n",
            "최대구매액     3500.0  1.966424e+07  3.199235e+07  -2992000.0  2.875000e+06   \n",
            "주구매상품     3500.0  1.461200e+01  1.301995e+01         0.0  5.000000e+00   \n",
            "주구매지점     3500.0  1.073429e+01  5.636480e+00         0.0  8.000000e+00   \n",
            "내점일수      3500.0  1.925371e+01  2.717494e+01         1.0  2.000000e+00   \n",
            "내점당구매건수   3500.0  2.834963e+00  1.912368e+00         1.0  1.666667e+00   \n",
            "주말방문비율    3500.0  3.072463e-01  2.897516e-01         0.0  2.729090e-02   \n",
            "구매주기      3500.0  2.095829e+01  2.474868e+01         0.0  4.000000e+00   \n",
            "환불금액_new  3500.0  3.442857e-01  4.752027e-01         0.0  0.000000e+00   \n",
            "\n",
            "                   50%           75%           max  \n",
            "총구매액      2.822270e+07  1.065079e+08  2.323180e+09  \n",
            "최대구매액     9.837000e+06  2.296250e+07  7.066290e+08  \n",
            "주구매상품     9.000000e+00  2.200000e+01  4.100000e+01  \n",
            "주구매지점     9.000000e+00  1.500000e+01  2.300000e+01  \n",
            "내점일수      8.000000e+00  2.500000e+01  2.850000e+02  \n",
            "내점당구매건수   2.333333e+00  3.375000e+00  2.208333e+01  \n",
            "주말방문비율    2.564103e-01  4.489796e-01  1.000000e+00  \n",
            "구매주기      1.300000e+01  2.800000e+01  1.660000e+02  \n",
            "환불금액_new  0.000000e+00  1.000000e+00  1.000000e+00  \n"
          ]
        }
      ]
    },
    {
      "cell_type": "code",
      "metadata": {
        "id": "3AIbgt_0spow"
      },
      "source": [
        "from sklearn.preprocessing import StandardScaler\n",
        "scaler=StandardScaler()\n",
        "x_train = pd.DataFrame(scaler.fit_transform(x_train), columns = x_train.columns)"
      ],
      "execution_count": 114,
      "outputs": []
    },
    {
      "cell_type": "code",
      "metadata": {
        "colab": {
          "base_uri": "https://localhost:8080/"
        },
        "id": "ZKEtIfKyt5qg",
        "outputId": "8f30c1dc-76ff-4dfc-a67b-f1be135cd864"
      },
      "source": [
        "x_test = pd.DataFrame(scaler.transform(x_test), columns = x_test.columns)"
      ],
      "execution_count": 115,
      "outputs": [
        {
          "output_type": "stream",
          "name": "stderr",
          "text": [
            "/usr/local/lib/python3.7/dist-packages/sklearn/base.py:488: FutureWarning: The feature names should match those that were passed during fit. Starting version 1.2, an error will be raised.\n",
            "Feature names unseen at fit time:\n",
            "- 환불금액\n",
            "Feature names seen at fit time, yet now missing:\n",
            "- 환불금액_new\n",
            "\n",
            "  warnings.warn(message, FutureWarning)\n"
          ]
        }
      ]
    },
    {
      "cell_type": "code",
      "metadata": {
        "colab": {
          "base_uri": "https://localhost:8080/"
        },
        "id": "vCZ6OWM0ucWJ",
        "outputId": "ec72db0b-8442-408b-9d75-7e0e121ff7c3"
      },
      "source": [
        "print(x_train.describe().T)"
      ],
      "execution_count": 116,
      "outputs": [
        {
          "output_type": "stream",
          "name": "stdout",
          "text": [
            "           count          mean       std       min       25%       50%  \\\n",
            "총구매액      3500.0 -4.409171e-17  1.000143 -0.882909 -0.533218 -0.389621   \n",
            "최대구매액     3500.0 -4.838986e-17  1.000143 -0.708278 -0.524864 -0.307219   \n",
            "주구매상품     3500.0 -6.236281e-17  1.000143 -1.122438 -0.738357 -0.431093   \n",
            "주구매지점     3500.0 -8.333017e-17  1.000143 -1.904703 -0.485175 -0.307733   \n",
            "내점일수      3500.0  2.518303e-16  1.000143 -0.671807 -0.635003 -0.414180   \n",
            "내점당구매건수   3500.0 -2.346536e-16  1.000143 -0.959661 -0.611003 -0.262346   \n",
            "주말방문비율    3500.0  1.402687e-16  1.000143 -1.060530 -0.966329 -0.175472   \n",
            "구매주기      3500.0 -1.220294e-16  1.000143 -0.846966 -0.685318 -0.321610   \n",
            "환불금액_new  3500.0  3.445498e-16  1.000143 -0.724606 -0.724606 -0.724606   \n",
            "\n",
            "               75%        max  \n",
            "총구매액      0.089237  13.648260  \n",
            "최대구매액     0.103110  21.475852  \n",
            "주구매상품     0.567518   2.027026  \n",
            "주구매지점     0.756913   2.176441  \n",
            "내점일수      0.211486   9.780490  \n",
            "내점당구매건수   0.282432  10.066639  \n",
            "주말방문비율    0.489224   2.391196  \n",
            "구매주기      0.284570   5.861421  \n",
            "환불금액_new  1.380060   1.380060  \n"
          ]
        }
      ]
    },
    {
      "cell_type": "code",
      "metadata": {
        "colab": {
          "base_uri": "https://localhost:8080/"
        },
        "id": "iOGs4MMlukKq",
        "outputId": "a10c9304-604b-43e7-8a26-24f2280cbe18"
      },
      "source": [
        "print(x_train[['총구매액','최대구매액','환불금액_new']].corr())"
      ],
      "execution_count": 117,
      "outputs": [
        {
          "output_type": "stream",
          "name": "stdout",
          "text": [
            "              총구매액     최대구매액  환불금액_new\n",
            "총구매액      1.000000  0.700080  0.403357\n",
            "최대구매액     0.700080  1.000000  0.330687\n",
            "환불금액_new  0.403357  0.330687  1.000000\n"
          ]
        }
      ]
    },
    {
      "cell_type": "code",
      "metadata": {
        "id": "WL-loHGcuy3Z"
      },
      "source": [
        "x_train = x_train.drop(columns = ['최대구매액'])"
      ],
      "execution_count": 118,
      "outputs": []
    },
    {
      "cell_type": "code",
      "metadata": {
        "id": "8DSqYH8NvcI9"
      },
      "source": [
        "x_test = x_test.drop(columns = ['최대구매액'])"
      ],
      "execution_count": 119,
      "outputs": []
    },
    {
      "cell_type": "code",
      "metadata": {
        "colab": {
          "base_uri": "https://localhost:8080/"
        },
        "id": "mz0gi6K41gX0",
        "outputId": "de1f05c6-d40b-4934-c111-3ccd8ff2ec9c"
      },
      "source": [
        "x_test.info()"
      ],
      "execution_count": 120,
      "outputs": [
        {
          "output_type": "stream",
          "name": "stdout",
          "text": [
            "<class 'pandas.core.frame.DataFrame'>\n",
            "RangeIndex: 2482 entries, 0 to 2481\n",
            "Data columns (total 8 columns):\n",
            " #   Column   Non-Null Count  Dtype  \n",
            "---  ------   --------------  -----  \n",
            " 0   총구매액     2482 non-null   float64\n",
            " 1   환불금액     2482 non-null   float64\n",
            " 2   주구매상품    2482 non-null   float64\n",
            " 3   주구매지점    2482 non-null   float64\n",
            " 4   내점일수     2482 non-null   float64\n",
            " 5   내점당구매건수  2482 non-null   float64\n",
            " 6   주말방문비율   2482 non-null   float64\n",
            " 7   구매주기     2482 non-null   float64\n",
            "dtypes: float64(8)\n",
            "memory usage: 155.2 KB\n"
          ]
        }
      ]
    },
    {
      "cell_type": "code",
      "metadata": {
        "colab": {
          "base_uri": "https://localhost:8080/"
        },
        "id": "OB-ziD2fv-0V",
        "outputId": "6ca8d145-4b87-4919-879c-cb19ea13d652"
      },
      "source": [
        "from sklearn.tree import DecisionTreeClassifier\n",
        "model = DecisionTreeClassifier()\n",
        "model.fit(x_train, y_train)\n",
        "y_test_predicted = model.predict(x_test)\n",
        "print(pd.DataFrame(y_test_predicted).head(3))"
      ],
      "execution_count": 121,
      "outputs": [
        {
          "output_type": "stream",
          "name": "stdout",
          "text": [
            "   0\n",
            "0  0\n",
            "1  1\n",
            "2  0\n"
          ]
        },
        {
          "output_type": "stream",
          "name": "stderr",
          "text": [
            "/usr/local/lib/python3.7/dist-packages/sklearn/base.py:488: FutureWarning: The feature names should match those that were passed during fit. Starting version 1.2, an error will be raised.\n",
            "Feature names unseen at fit time:\n",
            "- 환불금액\n",
            "Feature names seen at fit time, yet now missing:\n",
            "- 환불금액_new\n",
            "\n",
            "  warnings.warn(message, FutureWarning)\n"
          ]
        }
      ]
    },
    {
      "cell_type": "code",
      "metadata": {
        "colab": {
          "base_uri": "https://localhost:8080/"
        },
        "id": "n83Fq0Tp3VAk",
        "outputId": "9b9a10c8-5bed-4a5c-bb31-f4d153a2b822"
      },
      "source": [
        "model = DecisionTreeClassifier(max_depth=10, criterion='entropy', random_state=10)\n",
        "model.fit(x_train, y_train)\n",
        "y_test_predicted = model.predict(x_test)\n",
        "print(pd.DataFrame(y_test_predicted).head(3))"
      ],
      "execution_count": 123,
      "outputs": [
        {
          "output_type": "stream",
          "name": "stdout",
          "text": [
            "   0\n",
            "0  1\n",
            "1  1\n",
            "2  1\n"
          ]
        },
        {
          "output_type": "stream",
          "name": "stderr",
          "text": [
            "/usr/local/lib/python3.7/dist-packages/sklearn/base.py:488: FutureWarning: The feature names should match those that were passed during fit. Starting version 1.2, an error will be raised.\n",
            "Feature names unseen at fit time:\n",
            "- 환불금액\n",
            "Feature names seen at fit time, yet now missing:\n",
            "- 환불금액_new\n",
            "\n",
            "  warnings.warn(message, FutureWarning)\n"
          ]
        }
      ]
    },
    {
      "cell_type": "code",
      "metadata": {
        "colab": {
          "base_uri": "https://localhost:8080/"
        },
        "id": "TUChxeKs2wu_",
        "outputId": "adf29883-b4f3-492c-f91a-47ada857f3cb"
      },
      "source": [
        "y_test_proba = model.predict_proba(x_test)\n",
        "print(pd.DataFrame(y_test_proba).head())"
      ],
      "execution_count": 124,
      "outputs": [
        {
          "output_type": "stream",
          "name": "stdout",
          "text": [
            "     0    1\n",
            "0  0.0  1.0\n",
            "1  0.0  1.0\n",
            "2  0.0  1.0\n",
            "3  0.0  1.0\n",
            "4  1.0  0.0\n"
          ]
        },
        {
          "output_type": "stream",
          "name": "stderr",
          "text": [
            "/usr/local/lib/python3.7/dist-packages/sklearn/base.py:488: FutureWarning: The feature names should match those that were passed during fit. Starting version 1.2, an error will be raised.\n",
            "Feature names unseen at fit time:\n",
            "- 환불금액\n",
            "Feature names seen at fit time, yet now missing:\n",
            "- 환불금액_new\n",
            "\n",
            "  warnings.warn(message, FutureWarning)\n"
          ]
        }
      ]
    },
    {
      "cell_type": "code",
      "metadata": {
        "id": "W4sqf7cQ78LB"
      },
      "source": [
        "y_train_predicted = model.predict(x_train)\n",
        "from sklearn.metrics import roc"
      ],
      "execution_count": null,
      "outputs": []
    }
  ]
}